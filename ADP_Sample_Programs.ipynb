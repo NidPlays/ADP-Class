{
  "nbformat": 4,
  "nbformat_minor": 0,
  "metadata": {
    "colab": {
      "name": "ADP-Sample Programs",
      "provenance": [],
      "collapsed_sections": [],
      "toc_visible": true,
      "include_colab_link": true
    },
    "kernelspec": {
      "display_name": "Python 3",
      "name": "python3"
    }
  },
  "cells": [
    {
      "cell_type": "markdown",
      "metadata": {
        "id": "view-in-github",
        "colab_type": "text"
      },
      "source": [
        "<a href=\"https://colab.research.google.com/github/NidPlays/ADP-Class/blob/main/ADP_Sample_Programs.ipynb\" target=\"_parent\"><img src=\"https://colab.research.google.com/assets/colab-badge.svg\" alt=\"Open In Colab\"/></a>"
      ]
    },
    {
      "cell_type": "markdown",
      "metadata": {
        "id": "LfQtqER7hnPm"
      },
      "source": [
        "# First Program\n"
      ]
    },
    {
      "cell_type": "markdown",
      "metadata": {
        "id": "M9hYYC_beK3f"
      },
      "source": [
        "Simple program to Find area of triangle by base and height\n",
        "Uses formula (base*height)/2 \n",
        "\n",
        "![image.png](data:image/png;base64,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)"
      ]
    },
    {
      "cell_type": "code",
      "metadata": {
        "id": "_GbMYXlud07A",
        "colab": {
          "base_uri": "https://localhost:8080/"
        },
        "outputId": "cecd7cdd-3dc0-4683-c990-4bb2767e22d9"
      },
      "source": [
        "#Area of triangle\n",
        "\n",
        "base=float(input(\"Enter base:\"))\n",
        "height=float(input(\"Enter heigt:\"))\n",
        "#Area\n",
        "Area= (float(base)*float(height))/2\n",
        "#Output\n",
        "print(\"The Area of triangle is \" + str(Area)+\" sq.units\")"
      ],
      "execution_count": null,
      "outputs": [
        {
          "output_type": "stream",
          "name": "stdout",
          "text": [
            "Enter base:20\n",
            "Enter heigt:10\n",
            "The Area of triangle is 100.0 sq.units\n"
          ]
        }
      ]
    },
    {
      "cell_type": "markdown",
      "metadata": {
        "id": "8Up8aCSlfPQX"
      },
      "source": [
        "Sample Output\n",
        "\n",
        "Enter base:20\n",
        "\n",
        "Enter heigt:10\n",
        "\n",
        "The Area of triangle is 100.0 sq.units\n"
      ]
    },
    {
      "cell_type": "markdown",
      "metadata": {
        "id": "mBczAGiJfPaI"
      },
      "source": [
        "--------------------------------------------------------------------------------"
      ]
    },
    {
      "cell_type": "markdown",
      "metadata": {
        "id": "wJtivL54hwPH"
      },
      "source": [
        "# Second Program"
      ]
    },
    {
      "cell_type": "markdown",
      "metadata": {
        "id": "o-640yZhesfo"
      },
      "source": [
        "Simple Program to calculate CGPA By giving sgpa of previous semesters\n",
        "Calculates cgpa and then converts to percentage"
      ]
    },
    {
      "cell_type": "code",
      "metadata": {
        "id": "HZs3wNg3d6SA",
        "colab": {
          "base_uri": "https://localhost:8080/"
        },
        "outputId": "6b92b33f-6401-4f19-f1d0-abac889993d9"
      },
      "source": [
        "#Program to calculate Cgpa\n",
        "#Student details input\n",
        "name=str(input(\"Enter the name:\"))\n",
        "usn=str(input(\"Enter the USN:\"))\n",
        "#SGPA input\n",
        "s1=float(input(\"Enter SGPA of SEM-1:\"))\n",
        "s2=float(input(\"Enter SGPA of SEM-2:\"))\n",
        "s3=float(input(\"Enter SGPA of SEM-3:\"))\n",
        "s4=float(input(\"Enter SGPA of SEM-4:\"))\n",
        "#To calculate CGPA and percentage\n",
        "cgpa=(float(s1)+float(s2)+float(s3)+float(s4))/4\n",
        "percentage= (float(cgpa)-0.75)*10\n",
        "#Output\n",
        "print(\"Computing.......\")\n",
        "print(\"The CGPA of \"+name+\" with USN \"+usn+\" is \"+str(cgpa))\n",
        "print(\"The percentage is \"+str(percentage))"
      ],
      "execution_count": 1,
      "outputs": [
        {
          "output_type": "stream",
          "name": "stdout",
          "text": [
            "Enter the name:Nidish G\n",
            "Enter the USN:1RN19IS094\n",
            "Enter SGPA of SEM-1:8.75\n",
            "Enter SGPA of SEM-2:9.30\n",
            "Enter SGPA of SEM-3:9.0\n",
            "Enter SGPA of SEM-4:7.7\n",
            "Computing.......\n",
            "The CGPA of Nidish G with USN 1RN19IS094 is 8.6875\n",
            "The percentage is 79.375\n"
          ]
        }
      ]
    },
    {
      "cell_type": "markdown",
      "metadata": {
        "id": "5tA-yCGxfJBH"
      },
      "source": [
        "Sample Output\n",
        "\n",
        "Enter the name:Nidish\n",
        "\n",
        "Enter the USN:1RN1I9S094\n",
        "\n",
        "Enter SGPA of SEM-1:8.75\n",
        "\n",
        "Enter SGPA of SEM-2:9.30\n",
        "\n",
        "Enter SGPA of SEM-3:7.7\n",
        "\n",
        "Enter SGPA of SEM-4:9.0\n",
        "\n",
        "Computing.......\n",
        "\n",
        "The CGPA of Nidish with USN 1RN1I9S094 is 8.6875\n",
        "\n",
        "The percentage is 79.375"
      ]
    }
  ]
}